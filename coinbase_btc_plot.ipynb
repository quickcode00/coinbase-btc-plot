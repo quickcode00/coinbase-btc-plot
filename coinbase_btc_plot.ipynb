{
 "cells": [
  {
   "cell_type": "code",
   "execution_count": 17,
   "metadata": {},
   "outputs": [],
   "source": [
    "import requests\n",
    "import pandas as pd\n",
    "from collections import defaultdict\n",
    "import time\n",
    "import plotly.express as px\n",
    "from IPython.display import display, clear_output\n",
    "import plotly.graph_objects as go"
   ]
  },
  {
   "cell_type": "code",
   "execution_count": 2,
   "metadata": {},
   "outputs": [],
   "source": [
    "url = 'https://api.pro.coinbase.com'\n",
    "symbol = 'BTC-USD'"
   ]
  },
  {
   "cell_type": "code",
   "execution_count": 16,
   "metadata": {},
   "outputs": [
    {
     "data": {
      "application/vnd.plotly.v1+json": {
       "config": {
        "plotlyServerURL": "https://plot.ly"
       },
       "data": [
        {
         "hovertemplate": "price_series=price<br>time=%{x}<br>value=%{y}<extra></extra>",
         "legendgroup": "price",
         "line": {
          "color": "#636efa",
          "dash": "solid"
         },
         "mode": "lines",
         "name": "price",
         "orientation": "v",
         "showlegend": true,
         "type": "scatter",
         "x": [
          "2021-08-28T17:46:35.162065Z",
          "2021-08-28T17:46:35.162065Z",
          "2021-08-28T17:46:38.267181Z",
          "2021-08-28T17:46:40.502264Z",
          "2021-08-28T17:46:43.851454Z",
          "2021-08-28T17:46:46.350216Z",
          "2021-08-28T17:46:47.047442Z",
          "2021-08-28T17:46:49.328789Z",
          "2021-08-28T17:46:49.761464Z",
          "2021-08-28T17:46:54.18807Z",
          "2021-08-28T17:46:56.264717Z",
          "2021-08-28T17:46:59.131523Z",
          "2021-08-28T17:46:59.131523Z",
          "2021-08-28T17:47:03.630081Z",
          "2021-08-28T17:47:04.785257Z",
          "2021-08-28T17:47:08.126809Z",
          "2021-08-28T17:47:09.127853Z",
          "2021-08-28T17:47:12.278716Z",
          "2021-08-28T17:47:14.398087Z",
          "2021-08-28T17:47:14.398087Z",
          "2021-08-28T17:47:18.892875Z",
          "2021-08-28T17:47:19.59132Z",
          "2021-08-28T17:47:21.959685Z",
          "2021-08-28T17:47:23.780906Z",
          "2021-08-28T17:47:28.098099Z",
          "2021-08-28T17:47:29.383683Z",
          "2021-08-28T17:47:29.619298Z",
          "2021-08-28T17:47:34.481098Z",
          "2021-08-28T17:47:36.462066Z",
          "2021-08-28T17:47:39.074589Z",
          "2021-08-28T17:47:39.365092Z",
          "2021-08-28T17:47:40.922517Z",
          "2021-08-28T17:47:45.670752Z",
          "2021-08-28T17:47:47.746204Z",
          "2021-08-28T17:47:47.746204Z",
          "2021-08-28T17:47:52.302399Z",
          "2021-08-28T17:47:54.204989Z",
          "2021-08-28T17:47:56.748437Z",
          "2021-08-28T17:47:58.830967Z",
          "2021-08-28T17:48:00.591276Z",
          "2021-08-28T17:48:01.765394Z",
          "2021-08-28T17:48:05.602126Z",
          "2021-08-28T17:48:05.602126Z",
          "2021-08-28T17:48:05.602126Z",
          "2021-08-28T17:48:05.602126Z",
          "2021-08-28T17:48:14.065925Z",
          "2021-08-28T17:48:15.53311Z",
          "2021-08-28T17:48:16.675103Z",
          "2021-08-28T17:48:21.09763Z",
          "2021-08-28T17:48:23.337553Z",
          "2021-08-28T17:48:25.208071Z",
          "2021-08-28T17:48:25.208071Z",
          "2021-08-28T17:48:30.093984Z",
          "2021-08-28T17:48:31.686812Z",
          "2021-08-28T17:48:33.886539Z",
          "2021-08-28T17:48:36.83652Z",
          "2021-08-28T17:48:38.367875Z",
          "2021-08-28T17:48:41.059548Z",
          "2021-08-28T17:48:42.984287Z",
          "2021-08-28T17:48:44.241849Z",
          "2021-08-28T17:48:47.077046Z",
          "2021-08-28T17:48:47.976592Z",
          "2021-08-28T17:48:50.639019Z",
          "2021-08-28T17:48:54.073386Z",
          "2021-08-28T17:48:56.213663Z",
          "2021-08-28T17:48:58.757085Z",
          "2021-08-28T17:48:58.757085Z",
          "2021-08-28T17:49:03.261109Z",
          "2021-08-28T17:49:05.205921Z",
          "2021-08-28T17:49:07.35331Z",
          "2021-08-28T17:49:09.669062Z",
          "2021-08-28T17:49:11.52537Z",
          "2021-08-28T17:49:12.936899Z",
          "2021-08-28T17:49:15.083208Z",
          "2021-08-28T17:49:17.867195Z",
          "2021-08-28T17:49:20.510122Z",
          "2021-08-28T17:49:21.876404Z",
          "2021-08-28T17:49:21.876404Z",
          "2021-08-28T17:49:26.070288Z",
          "2021-08-28T17:49:29.789395Z",
          "2021-08-28T17:49:31.717517Z",
          "2021-08-28T17:49:33.705014Z",
          "2021-08-28T17:49:36.519992Z",
          "2021-08-28T17:49:37.252999Z",
          "2021-08-28T17:49:40.15744Z",
          "2021-08-28T17:49:42.607526Z",
          "2021-08-28T17:49:45.240534Z",
          "2021-08-28T17:49:47.287294Z",
          "2021-08-28T17:49:48.576265Z",
          "2021-08-28T17:49:51.050692Z",
          "2021-08-28T17:49:53.748939Z",
          "2021-08-28T17:49:56.099623Z",
          "2021-08-28T17:49:58.439128Z",
          "2021-08-28T17:49:59.090573Z",
          "2021-08-28T17:50:02.95739Z",
          "2021-08-28T17:50:04.707739Z",
          "2021-08-28T17:50:07.130384Z",
          "2021-08-28T17:50:08.421747Z",
          "2021-08-28T17:50:08.421747Z",
          "2021-08-28T17:50:14.168416Z",
          "2021-08-28T17:50:15.781592Z",
          "2021-08-28T17:50:17.536925Z",
          "2021-08-28T17:50:19.757627Z",
          "2021-08-28T17:50:22.526539Z",
          "2021-08-28T17:50:23.320617Z",
          "2021-08-28T17:50:26.59582Z",
          "2021-08-28T17:50:29.629409Z",
          "2021-08-28T17:50:31.680456Z",
          "2021-08-28T17:50:33.430512Z",
          "2021-08-28T17:50:35.472188Z",
          "2021-08-28T17:50:37.876222Z",
          "2021-08-28T17:50:40.440017Z",
          "2021-08-28T17:50:42.925209Z",
          "2021-08-28T17:50:44.677936Z",
          "2021-08-28T17:50:46.30917Z",
          "2021-08-28T17:50:49.598917Z",
          "2021-08-28T17:50:50.813904Z",
          "2021-08-28T17:50:54.177493Z",
          "2021-08-28T17:50:56.35477Z",
          "2021-08-28T17:50:58.385017Z",
          "2021-08-28T17:51:00.089834Z",
          "2021-08-28T17:51:02.481363Z",
          "2021-08-28T17:51:04.544433Z",
          "2021-08-28T17:51:07.39949Z",
          "2021-08-28T17:51:07.39949Z",
          "2021-08-28T17:51:11.795999Z",
          "2021-08-28T17:51:12.927739Z",
          "2021-08-28T17:51:16.459183Z",
          "2021-08-28T17:51:17.865507Z",
          "2021-08-28T17:51:20.182604Z",
          "2021-08-28T17:51:22.641248Z",
          "2021-08-28T17:51:23.714078Z",
          "2021-08-28T17:51:26.174015Z"
         ],
         "xaxis": "x",
         "y": [
          49003.07,
          49003.07,
          49003.07,
          48999.41,
          48995.76,
          48995.79,
          48995.82,
          48995.79,
          48995.78,
          49001.92,
          49004.78,
          49004.79,
          49004.79,
          49006.43,
          49004.8,
          49004.8,
          49004.8,
          49004.8,
          49004.8,
          49004.8,
          49006.93,
          49005.03,
          49005.06,
          48998.62,
          48998.98,
          49000.08,
          48998.63,
          48999.05,
          49000.08,
          48999.09,
          48999.09,
          48998.64,
          49003.04,
          49001.94,
          49001.94,
          49000.66,
          49000.67,
          49000.66,
          49000.65,
          48996.56,
          48996.56,
          49022.26,
          49022.26,
          49022.26,
          49022.26,
          49014.26,
          49010.73,
          49012.47,
          49016.61,
          49019.59,
          49023.51,
          49023.51,
          49023.5,
          49023.51,
          49023.51,
          49023.5,
          49017.91,
          49012.69,
          49012.26,
          49012.25,
          49012.24,
          49012.25,
          49015.82,
          49017.66,
          49016.02,
          49013.73,
          49013.73,
          49013.74,
          49014.11,
          49014.47,
          49021.89,
          49028.5,
          49037.86,
          49033.92,
          49033.56,
          49030,
          49030.04,
          49030.04,
          49022.24,
          49023.26,
          49023.71,
          49023.31,
          49024.74,
          49023.99,
          49023.89,
          49024.75,
          49024.75,
          49023.32,
          49024.75,
          49024.75,
          49036.93,
          49036.29,
          49024.54,
          49022.23,
          49015.73,
          49017.71,
          49023.18,
          49023.19,
          49023.19,
          49024.33,
          49024.84,
          49021.19,
          49021.19,
          49021.19,
          49025.49,
          49023.01,
          49025.95,
          49020.46,
          49018.21,
          49022.52,
          49024.69,
          49024.7,
          49023.76,
          49024.69,
          49024.7,
          49026.25,
          49026.2,
          49027.59,
          49023.9,
          49026.43,
          49023.34,
          49023.34,
          49023.33,
          49023.34,
          49023.34,
          49026.51,
          49026.33,
          49023.43,
          49023.33,
          49013.74,
          49013.74,
          49013.74,
          49013.35
         ],
         "yaxis": "y"
        },
        {
         "hovertemplate": "price_series=sma_20<br>time=%{x}<br>value=%{y}<extra></extra>",
         "legendgroup": "sma_20",
         "line": {
          "color": "#EF553B",
          "dash": "solid"
         },
         "mode": "lines",
         "name": "sma_20",
         "orientation": "v",
         "showlegend": true,
         "type": "scatter",
         "x": [
          "2021-08-28T17:46:35.162065Z",
          "2021-08-28T17:46:35.162065Z",
          "2021-08-28T17:46:38.267181Z",
          "2021-08-28T17:46:40.502264Z",
          "2021-08-28T17:46:43.851454Z",
          "2021-08-28T17:46:46.350216Z",
          "2021-08-28T17:46:47.047442Z",
          "2021-08-28T17:46:49.328789Z",
          "2021-08-28T17:46:49.761464Z",
          "2021-08-28T17:46:54.18807Z",
          "2021-08-28T17:46:56.264717Z",
          "2021-08-28T17:46:59.131523Z",
          "2021-08-28T17:46:59.131523Z",
          "2021-08-28T17:47:03.630081Z",
          "2021-08-28T17:47:04.785257Z",
          "2021-08-28T17:47:08.126809Z",
          "2021-08-28T17:47:09.127853Z",
          "2021-08-28T17:47:12.278716Z",
          "2021-08-28T17:47:14.398087Z",
          "2021-08-28T17:47:14.398087Z",
          "2021-08-28T17:47:18.892875Z",
          "2021-08-28T17:47:19.59132Z",
          "2021-08-28T17:47:21.959685Z",
          "2021-08-28T17:47:23.780906Z",
          "2021-08-28T17:47:28.098099Z",
          "2021-08-28T17:47:29.383683Z",
          "2021-08-28T17:47:29.619298Z",
          "2021-08-28T17:47:34.481098Z",
          "2021-08-28T17:47:36.462066Z",
          "2021-08-28T17:47:39.074589Z",
          "2021-08-28T17:47:39.365092Z",
          "2021-08-28T17:47:40.922517Z",
          "2021-08-28T17:47:45.670752Z",
          "2021-08-28T17:47:47.746204Z",
          "2021-08-28T17:47:47.746204Z",
          "2021-08-28T17:47:52.302399Z",
          "2021-08-28T17:47:54.204989Z",
          "2021-08-28T17:47:56.748437Z",
          "2021-08-28T17:47:58.830967Z",
          "2021-08-28T17:48:00.591276Z",
          "2021-08-28T17:48:01.765394Z",
          "2021-08-28T17:48:05.602126Z",
          "2021-08-28T17:48:05.602126Z",
          "2021-08-28T17:48:05.602126Z",
          "2021-08-28T17:48:05.602126Z",
          "2021-08-28T17:48:14.065925Z",
          "2021-08-28T17:48:15.53311Z",
          "2021-08-28T17:48:16.675103Z",
          "2021-08-28T17:48:21.09763Z",
          "2021-08-28T17:48:23.337553Z",
          "2021-08-28T17:48:25.208071Z",
          "2021-08-28T17:48:25.208071Z",
          "2021-08-28T17:48:30.093984Z",
          "2021-08-28T17:48:31.686812Z",
          "2021-08-28T17:48:33.886539Z",
          "2021-08-28T17:48:36.83652Z",
          "2021-08-28T17:48:38.367875Z",
          "2021-08-28T17:48:41.059548Z",
          "2021-08-28T17:48:42.984287Z",
          "2021-08-28T17:48:44.241849Z",
          "2021-08-28T17:48:47.077046Z",
          "2021-08-28T17:48:47.976592Z",
          "2021-08-28T17:48:50.639019Z",
          "2021-08-28T17:48:54.073386Z",
          "2021-08-28T17:48:56.213663Z",
          "2021-08-28T17:48:58.757085Z",
          "2021-08-28T17:48:58.757085Z",
          "2021-08-28T17:49:03.261109Z",
          "2021-08-28T17:49:05.205921Z",
          "2021-08-28T17:49:07.35331Z",
          "2021-08-28T17:49:09.669062Z",
          "2021-08-28T17:49:11.52537Z",
          "2021-08-28T17:49:12.936899Z",
          "2021-08-28T17:49:15.083208Z",
          "2021-08-28T17:49:17.867195Z",
          "2021-08-28T17:49:20.510122Z",
          "2021-08-28T17:49:21.876404Z",
          "2021-08-28T17:49:21.876404Z",
          "2021-08-28T17:49:26.070288Z",
          "2021-08-28T17:49:29.789395Z",
          "2021-08-28T17:49:31.717517Z",
          "2021-08-28T17:49:33.705014Z",
          "2021-08-28T17:49:36.519992Z",
          "2021-08-28T17:49:37.252999Z",
          "2021-08-28T17:49:40.15744Z",
          "2021-08-28T17:49:42.607526Z",
          "2021-08-28T17:49:45.240534Z",
          "2021-08-28T17:49:47.287294Z",
          "2021-08-28T17:49:48.576265Z",
          "2021-08-28T17:49:51.050692Z",
          "2021-08-28T17:49:53.748939Z",
          "2021-08-28T17:49:56.099623Z",
          "2021-08-28T17:49:58.439128Z",
          "2021-08-28T17:49:59.090573Z",
          "2021-08-28T17:50:02.95739Z",
          "2021-08-28T17:50:04.707739Z",
          "2021-08-28T17:50:07.130384Z",
          "2021-08-28T17:50:08.421747Z",
          "2021-08-28T17:50:08.421747Z",
          "2021-08-28T17:50:14.168416Z",
          "2021-08-28T17:50:15.781592Z",
          "2021-08-28T17:50:17.536925Z",
          "2021-08-28T17:50:19.757627Z",
          "2021-08-28T17:50:22.526539Z",
          "2021-08-28T17:50:23.320617Z",
          "2021-08-28T17:50:26.59582Z",
          "2021-08-28T17:50:29.629409Z",
          "2021-08-28T17:50:31.680456Z",
          "2021-08-28T17:50:33.430512Z",
          "2021-08-28T17:50:35.472188Z",
          "2021-08-28T17:50:37.876222Z",
          "2021-08-28T17:50:40.440017Z",
          "2021-08-28T17:50:42.925209Z",
          "2021-08-28T17:50:44.677936Z",
          "2021-08-28T17:50:46.30917Z",
          "2021-08-28T17:50:49.598917Z",
          "2021-08-28T17:50:50.813904Z",
          "2021-08-28T17:50:54.177493Z",
          "2021-08-28T17:50:56.35477Z",
          "2021-08-28T17:50:58.385017Z",
          "2021-08-28T17:51:00.089834Z",
          "2021-08-28T17:51:02.481363Z",
          "2021-08-28T17:51:04.544433Z",
          "2021-08-28T17:51:07.39949Z",
          "2021-08-28T17:51:07.39949Z",
          "2021-08-28T17:51:11.795999Z",
          "2021-08-28T17:51:12.927739Z",
          "2021-08-28T17:51:16.459183Z",
          "2021-08-28T17:51:17.865507Z",
          "2021-08-28T17:51:20.182604Z",
          "2021-08-28T17:51:22.641248Z",
          "2021-08-28T17:51:23.714078Z",
          "2021-08-28T17:51:26.174015Z"
         ],
         "xaxis": "x",
         "y": [
          null,
          null,
          null,
          null,
          null,
          null,
          null,
          null,
          null,
          null,
          null,
          null,
          null,
          null,
          null,
          null,
          null,
          null,
          null,
          49001.95350000002,
          49002.14650000002,
          49002.24450000002,
          49002.34400000003,
          49002.30450000002,
          49002.46550000002,
          49002.680000000015,
          49002.820500000016,
          49002.98350000002,
          49003.19850000001,
          49003.057000000015,
          49002.77250000001,
          49002.46500000001,
          49002.37750000001,
          49002.153000000006,
          49002.01000000001,
          49001.80300000001,
          49001.59650000001,
          49001.389500000005,
          49001.18200000001,
          49000.770000000004,
          49000.251500000006,
          49001.113000000005,
          49001.97300000001,
          49003.15500000001,
          49004.31900000001,
          49005.02800000001,
          49005.633000000016,
          49006.30400000001,
          49007.130500000014,
          49008.15550000001,
          49009.37650000001,
          49010.62000000001,
          49011.64300000001,
          49012.72150000001,
          49013.80000000001,
          49014.94200000001,
          49015.80400000001,
          49016.40550000001,
          49016.98600000001,
          49017.770500000006,
          49018.554500000006,
          49018.054000000004,
          49017.732,
          49017.502,
          49017.19,
          49017.1635,
          49017.313500000004,
          49017.377,
          49017.252,
          49016.996,
          49016.915,
          49017.1645,
          49017.8825,
          49018.403000000006,
          49018.90550000001,
          49019.230500000005,
          49019.83700000001,
          49020.70450000001,
          49021.2035,
          49021.754,
          49022.3275,
          49022.88050000001,
          49023.32650000001,
          49023.643000000004,
          49024.0365,
          49024.58750000001,
          49025.13850000001,
          49025.61750000001,
          49026.14950000001,
          49026.66350000001,
          49027.41550000001,
          49027.80500000001,
          49027.13900000001,
          49026.55450000001,
          49025.663000000015,
          49025.04850000001,
          49024.70550000001,
          49024.36300000001,
          49024.41050000001,
          49024.46400000001,
          49024.520500000006,
          49024.4145,
          49024.237,
          49024.096999999994,
          49024.176999999996,
          49024.09,
          49024.149999999994,
          49024.007,
          49023.67999999999,
          49023.568499999994,
          49022.956499999986,
          49022.376999999986,
          49022.33799999998,
          49022.46099999999,
          49022.90949999999,
          49023.33649999999,
          49023.48749999998,
          49023.70749999998,
          49023.74299999998,
          49023.84799999998,
          49023.77299999999,
          49023.880499999985,
          49023.987499999974,
          49024.09499999997,
          49023.987499999974,
          49024.16249999997,
          49024.18149999997,
          49024.32999999997,
          49024.585999999974,
          49024.146999999975,
          49023.599499999975,
          49023.05149999998,
          49022.53099999997
         ],
         "yaxis": "y"
        }
       ],
       "layout": {
        "autosize": true,
        "legend": {
         "title": {
          "text": "price_series"
         },
         "tracegroupgap": 0
        },
        "margin": {
         "t": 60
        },
        "template": {
         "data": {
          "bar": [
           {
            "error_x": {
             "color": "#2a3f5f"
            },
            "error_y": {
             "color": "#2a3f5f"
            },
            "marker": {
             "line": {
              "color": "#E5ECF6",
              "width": 0.5
             }
            },
            "type": "bar"
           }
          ],
          "barpolar": [
           {
            "marker": {
             "line": {
              "color": "#E5ECF6",
              "width": 0.5
             }
            },
            "type": "barpolar"
           }
          ],
          "carpet": [
           {
            "aaxis": {
             "endlinecolor": "#2a3f5f",
             "gridcolor": "white",
             "linecolor": "white",
             "minorgridcolor": "white",
             "startlinecolor": "#2a3f5f"
            },
            "baxis": {
             "endlinecolor": "#2a3f5f",
             "gridcolor": "white",
             "linecolor": "white",
             "minorgridcolor": "white",
             "startlinecolor": "#2a3f5f"
            },
            "type": "carpet"
           }
          ],
          "choropleth": [
           {
            "colorbar": {
             "outlinewidth": 0,
             "ticks": ""
            },
            "type": "choropleth"
           }
          ],
          "contour": [
           {
            "colorbar": {
             "outlinewidth": 0,
             "ticks": ""
            },
            "colorscale": [
             [
              0,
              "#0d0887"
             ],
             [
              0.1111111111111111,
              "#46039f"
             ],
             [
              0.2222222222222222,
              "#7201a8"
             ],
             [
              0.3333333333333333,
              "#9c179e"
             ],
             [
              0.4444444444444444,
              "#bd3786"
             ],
             [
              0.5555555555555556,
              "#d8576b"
             ],
             [
              0.6666666666666666,
              "#ed7953"
             ],
             [
              0.7777777777777778,
              "#fb9f3a"
             ],
             [
              0.8888888888888888,
              "#fdca26"
             ],
             [
              1,
              "#f0f921"
             ]
            ],
            "type": "contour"
           }
          ],
          "contourcarpet": [
           {
            "colorbar": {
             "outlinewidth": 0,
             "ticks": ""
            },
            "type": "contourcarpet"
           }
          ],
          "heatmap": [
           {
            "colorbar": {
             "outlinewidth": 0,
             "ticks": ""
            },
            "colorscale": [
             [
              0,
              "#0d0887"
             ],
             [
              0.1111111111111111,
              "#46039f"
             ],
             [
              0.2222222222222222,
              "#7201a8"
             ],
             [
              0.3333333333333333,
              "#9c179e"
             ],
             [
              0.4444444444444444,
              "#bd3786"
             ],
             [
              0.5555555555555556,
              "#d8576b"
             ],
             [
              0.6666666666666666,
              "#ed7953"
             ],
             [
              0.7777777777777778,
              "#fb9f3a"
             ],
             [
              0.8888888888888888,
              "#fdca26"
             ],
             [
              1,
              "#f0f921"
             ]
            ],
            "type": "heatmap"
           }
          ],
          "heatmapgl": [
           {
            "colorbar": {
             "outlinewidth": 0,
             "ticks": ""
            },
            "colorscale": [
             [
              0,
              "#0d0887"
             ],
             [
              0.1111111111111111,
              "#46039f"
             ],
             [
              0.2222222222222222,
              "#7201a8"
             ],
             [
              0.3333333333333333,
              "#9c179e"
             ],
             [
              0.4444444444444444,
              "#bd3786"
             ],
             [
              0.5555555555555556,
              "#d8576b"
             ],
             [
              0.6666666666666666,
              "#ed7953"
             ],
             [
              0.7777777777777778,
              "#fb9f3a"
             ],
             [
              0.8888888888888888,
              "#fdca26"
             ],
             [
              1,
              "#f0f921"
             ]
            ],
            "type": "heatmapgl"
           }
          ],
          "histogram": [
           {
            "marker": {
             "colorbar": {
              "outlinewidth": 0,
              "ticks": ""
             }
            },
            "type": "histogram"
           }
          ],
          "histogram2d": [
           {
            "colorbar": {
             "outlinewidth": 0,
             "ticks": ""
            },
            "colorscale": [
             [
              0,
              "#0d0887"
             ],
             [
              0.1111111111111111,
              "#46039f"
             ],
             [
              0.2222222222222222,
              "#7201a8"
             ],
             [
              0.3333333333333333,
              "#9c179e"
             ],
             [
              0.4444444444444444,
              "#bd3786"
             ],
             [
              0.5555555555555556,
              "#d8576b"
             ],
             [
              0.6666666666666666,
              "#ed7953"
             ],
             [
              0.7777777777777778,
              "#fb9f3a"
             ],
             [
              0.8888888888888888,
              "#fdca26"
             ],
             [
              1,
              "#f0f921"
             ]
            ],
            "type": "histogram2d"
           }
          ],
          "histogram2dcontour": [
           {
            "colorbar": {
             "outlinewidth": 0,
             "ticks": ""
            },
            "colorscale": [
             [
              0,
              "#0d0887"
             ],
             [
              0.1111111111111111,
              "#46039f"
             ],
             [
              0.2222222222222222,
              "#7201a8"
             ],
             [
              0.3333333333333333,
              "#9c179e"
             ],
             [
              0.4444444444444444,
              "#bd3786"
             ],
             [
              0.5555555555555556,
              "#d8576b"
             ],
             [
              0.6666666666666666,
              "#ed7953"
             ],
             [
              0.7777777777777778,
              "#fb9f3a"
             ],
             [
              0.8888888888888888,
              "#fdca26"
             ],
             [
              1,
              "#f0f921"
             ]
            ],
            "type": "histogram2dcontour"
           }
          ],
          "mesh3d": [
           {
            "colorbar": {
             "outlinewidth": 0,
             "ticks": ""
            },
            "type": "mesh3d"
           }
          ],
          "parcoords": [
           {
            "line": {
             "colorbar": {
              "outlinewidth": 0,
              "ticks": ""
             }
            },
            "type": "parcoords"
           }
          ],
          "pie": [
           {
            "automargin": true,
            "type": "pie"
           }
          ],
          "scatter": [
           {
            "marker": {
             "colorbar": {
              "outlinewidth": 0,
              "ticks": ""
             }
            },
            "type": "scatter"
           }
          ],
          "scatter3d": [
           {
            "line": {
             "colorbar": {
              "outlinewidth": 0,
              "ticks": ""
             }
            },
            "marker": {
             "colorbar": {
              "outlinewidth": 0,
              "ticks": ""
             }
            },
            "type": "scatter3d"
           }
          ],
          "scattercarpet": [
           {
            "marker": {
             "colorbar": {
              "outlinewidth": 0,
              "ticks": ""
             }
            },
            "type": "scattercarpet"
           }
          ],
          "scattergeo": [
           {
            "marker": {
             "colorbar": {
              "outlinewidth": 0,
              "ticks": ""
             }
            },
            "type": "scattergeo"
           }
          ],
          "scattergl": [
           {
            "marker": {
             "colorbar": {
              "outlinewidth": 0,
              "ticks": ""
             }
            },
            "type": "scattergl"
           }
          ],
          "scattermapbox": [
           {
            "marker": {
             "colorbar": {
              "outlinewidth": 0,
              "ticks": ""
             }
            },
            "type": "scattermapbox"
           }
          ],
          "scatterpolar": [
           {
            "marker": {
             "colorbar": {
              "outlinewidth": 0,
              "ticks": ""
             }
            },
            "type": "scatterpolar"
           }
          ],
          "scatterpolargl": [
           {
            "marker": {
             "colorbar": {
              "outlinewidth": 0,
              "ticks": ""
             }
            },
            "type": "scatterpolargl"
           }
          ],
          "scatterternary": [
           {
            "marker": {
             "colorbar": {
              "outlinewidth": 0,
              "ticks": ""
             }
            },
            "type": "scatterternary"
           }
          ],
          "surface": [
           {
            "colorbar": {
             "outlinewidth": 0,
             "ticks": ""
            },
            "colorscale": [
             [
              0,
              "#0d0887"
             ],
             [
              0.1111111111111111,
              "#46039f"
             ],
             [
              0.2222222222222222,
              "#7201a8"
             ],
             [
              0.3333333333333333,
              "#9c179e"
             ],
             [
              0.4444444444444444,
              "#bd3786"
             ],
             [
              0.5555555555555556,
              "#d8576b"
             ],
             [
              0.6666666666666666,
              "#ed7953"
             ],
             [
              0.7777777777777778,
              "#fb9f3a"
             ],
             [
              0.8888888888888888,
              "#fdca26"
             ],
             [
              1,
              "#f0f921"
             ]
            ],
            "type": "surface"
           }
          ],
          "table": [
           {
            "cells": {
             "fill": {
              "color": "#EBF0F8"
             },
             "line": {
              "color": "white"
             }
            },
            "header": {
             "fill": {
              "color": "#C8D4E3"
             },
             "line": {
              "color": "white"
             }
            },
            "type": "table"
           }
          ]
         },
         "layout": {
          "annotationdefaults": {
           "arrowcolor": "#2a3f5f",
           "arrowhead": 0,
           "arrowwidth": 1
          },
          "autotypenumbers": "strict",
          "coloraxis": {
           "colorbar": {
            "outlinewidth": 0,
            "ticks": ""
           }
          },
          "colorscale": {
           "diverging": [
            [
             0,
             "#8e0152"
            ],
            [
             0.1,
             "#c51b7d"
            ],
            [
             0.2,
             "#de77ae"
            ],
            [
             0.3,
             "#f1b6da"
            ],
            [
             0.4,
             "#fde0ef"
            ],
            [
             0.5,
             "#f7f7f7"
            ],
            [
             0.6,
             "#e6f5d0"
            ],
            [
             0.7,
             "#b8e186"
            ],
            [
             0.8,
             "#7fbc41"
            ],
            [
             0.9,
             "#4d9221"
            ],
            [
             1,
             "#276419"
            ]
           ],
           "sequential": [
            [
             0,
             "#0d0887"
            ],
            [
             0.1111111111111111,
             "#46039f"
            ],
            [
             0.2222222222222222,
             "#7201a8"
            ],
            [
             0.3333333333333333,
             "#9c179e"
            ],
            [
             0.4444444444444444,
             "#bd3786"
            ],
            [
             0.5555555555555556,
             "#d8576b"
            ],
            [
             0.6666666666666666,
             "#ed7953"
            ],
            [
             0.7777777777777778,
             "#fb9f3a"
            ],
            [
             0.8888888888888888,
             "#fdca26"
            ],
            [
             1,
             "#f0f921"
            ]
           ],
           "sequentialminus": [
            [
             0,
             "#0d0887"
            ],
            [
             0.1111111111111111,
             "#46039f"
            ],
            [
             0.2222222222222222,
             "#7201a8"
            ],
            [
             0.3333333333333333,
             "#9c179e"
            ],
            [
             0.4444444444444444,
             "#bd3786"
            ],
            [
             0.5555555555555556,
             "#d8576b"
            ],
            [
             0.6666666666666666,
             "#ed7953"
            ],
            [
             0.7777777777777778,
             "#fb9f3a"
            ],
            [
             0.8888888888888888,
             "#fdca26"
            ],
            [
             1,
             "#f0f921"
            ]
           ]
          },
          "colorway": [
           "#636efa",
           "#EF553B",
           "#00cc96",
           "#ab63fa",
           "#FFA15A",
           "#19d3f3",
           "#FF6692",
           "#B6E880",
           "#FF97FF",
           "#FECB52"
          ],
          "font": {
           "color": "#2a3f5f"
          },
          "geo": {
           "bgcolor": "white",
           "lakecolor": "white",
           "landcolor": "#E5ECF6",
           "showlakes": true,
           "showland": true,
           "subunitcolor": "white"
          },
          "hoverlabel": {
           "align": "left"
          },
          "hovermode": "closest",
          "mapbox": {
           "style": "light"
          },
          "paper_bgcolor": "white",
          "plot_bgcolor": "#E5ECF6",
          "polar": {
           "angularaxis": {
            "gridcolor": "white",
            "linecolor": "white",
            "ticks": ""
           },
           "bgcolor": "#E5ECF6",
           "radialaxis": {
            "gridcolor": "white",
            "linecolor": "white",
            "ticks": ""
           }
          },
          "scene": {
           "xaxis": {
            "backgroundcolor": "#E5ECF6",
            "gridcolor": "white",
            "gridwidth": 2,
            "linecolor": "white",
            "showbackground": true,
            "ticks": "",
            "zerolinecolor": "white"
           },
           "yaxis": {
            "backgroundcolor": "#E5ECF6",
            "gridcolor": "white",
            "gridwidth": 2,
            "linecolor": "white",
            "showbackground": true,
            "ticks": "",
            "zerolinecolor": "white"
           },
           "zaxis": {
            "backgroundcolor": "#E5ECF6",
            "gridcolor": "white",
            "gridwidth": 2,
            "linecolor": "white",
            "showbackground": true,
            "ticks": "",
            "zerolinecolor": "white"
           }
          },
          "shapedefaults": {
           "line": {
            "color": "#2a3f5f"
           }
          },
          "ternary": {
           "aaxis": {
            "gridcolor": "white",
            "linecolor": "white",
            "ticks": ""
           },
           "baxis": {
            "gridcolor": "white",
            "linecolor": "white",
            "ticks": ""
           },
           "bgcolor": "#E5ECF6",
           "caxis": {
            "gridcolor": "white",
            "linecolor": "white",
            "ticks": ""
           }
          },
          "title": {
           "x": 0.05
          },
          "xaxis": {
           "automargin": true,
           "gridcolor": "white",
           "linecolor": "white",
           "ticks": "",
           "title": {
            "standoff": 15
           },
           "zerolinecolor": "white",
           "zerolinewidth": 2
          },
          "yaxis": {
           "automargin": true,
           "gridcolor": "white",
           "linecolor": "white",
           "ticks": "",
           "title": {
            "standoff": 15
           },
           "zerolinecolor": "white",
           "zerolinewidth": 2
          }
         }
        },
        "xaxis": {
         "anchor": "y",
         "autorange": true,
         "domain": [
          0,
          1
         ],
         "range": [
          "2021-08-28 17:46:35.1621",
          "2021-08-28 17:51:26.174"
         ],
         "title": {
          "text": "time"
         },
         "type": "date"
        },
        "yaxis": {
         "anchor": "x",
         "autorange": true,
         "domain": [
          0,
          1
         ],
         "range": [
          48993.421111111114,
          49040.19888888889
         ],
         "title": {
          "text": "value"
         },
         "type": "linear"
        }
       }
      },
      "image/png": "[encoded data removed]",
      "text/html": [
       "<div>                            <div id=\"884264cf-7fef-41e7-b3a1-9a4de330c0f1\" class=\"plotly-graph-div\" style=\"height:525px; width:100%;\"></div>            <script type=\"text/javascript\">                require([\"plotly\"], function(Plotly) {                    window.PLOTLYENV=window.PLOTLYENV || {};                                    if (document.getElementById(\"884264cf-7fef-41e7-b3a1-9a4de330c0f1\")) {                    Plotly.newPlot(                        \"884264cf-7fef-41e7-b3a1-9a4de330c0f1\",                        [{\"hovertemplate\": \"price_series=price<br>time=%{x}<br>value=%{y}<extra></extra>\", \"legendgroup\": \"price\", \"line\": {\"color\": \"#636efa\", \"dash\": \"solid\"}, \"mode\": \"lines\", \"name\": \"price\", \"orientation\": \"v\", \"showlegend\": true, \"type\": \"scatter\", \"x\": [\"2021-08-28T17:46:35.162065Z\", \"2021-08-28T17:46:35.162065Z\", \"2021-08-28T17:46:38.267181Z\", \"2021-08-28T17:46:40.502264Z\", \"2021-08-28T17:46:43.851454Z\", \"2021-08-28T17:46:46.350216Z\", \"2021-08-28T17:46:47.047442Z\", \"2021-08-28T17:46:49.328789Z\", \"2021-08-28T17:46:49.761464Z\", \"2021-08-28T17:46:54.18807Z\", \"2021-08-28T17:46:56.264717Z\", \"2021-08-28T17:46:59.131523Z\", \"2021-08-28T17:46:59.131523Z\", \"2021-08-28T17:47:03.630081Z\", \"2021-08-28T17:47:04.785257Z\", \"2021-08-28T17:47:08.126809Z\", \"2021-08-28T17:47:09.127853Z\", \"2021-08-28T17:47:12.278716Z\", \"2021-08-28T17:47:14.398087Z\", \"2021-08-28T17:47:14.398087Z\", \"2021-08-28T17:47:18.892875Z\", \"2021-08-28T17:47:19.59132Z\", \"2021-08-28T17:47:21.959685Z\", \"2021-08-28T17:47:23.780906Z\", \"2021-08-28T17:47:28.098099Z\", \"2021-08-28T17:47:29.383683Z\", \"2021-08-28T17:47:29.619298Z\", \"2021-08-28T17:47:34.481098Z\", \"2021-08-28T17:47:36.462066Z\", \"2021-08-28T17:47:39.074589Z\", \"2021-08-28T17:47:39.365092Z\", \"2021-08-28T17:47:40.922517Z\", \"2021-08-28T17:47:45.670752Z\", \"2021-08-28T17:47:47.746204Z\", \"2021-08-28T17:47:47.746204Z\", \"2021-08-28T17:47:52.302399Z\", \"2021-08-28T17:47:54.204989Z\", \"2021-08-28T17:47:56.748437Z\", \"2021-08-28T17:47:58.830967Z\", \"2021-08-28T17:48:00.591276Z\", \"2021-08-28T17:48:01.765394Z\", \"2021-08-28T17:48:05.602126Z\", \"2021-08-28T17:48:05.602126Z\", \"2021-08-28T17:48:05.602126Z\", \"2021-08-28T17:48:05.602126Z\", \"2021-08-28T17:48:14.065925Z\", \"2021-08-28T17:48:15.53311Z\", \"2021-08-28T17:48:16.675103Z\", \"2021-08-28T17:48:21.09763Z\", \"2021-08-28T17:48:23.337553Z\", \"2021-08-28T17:48:25.208071Z\", \"2021-08-28T17:48:25.208071Z\", \"2021-08-28T17:48:30.093984Z\", \"2021-08-28T17:48:31.686812Z\", \"2021-08-28T17:48:33.886539Z\", \"2021-08-28T17:48:36.83652Z\", \"2021-08-28T17:48:38.367875Z\", \"2021-08-28T17:48:41.059548Z\", \"2021-08-28T17:48:42.984287Z\", \"2021-08-28T17:48:44.241849Z\", \"2021-08-28T17:48:47.077046Z\", \"2021-08-28T17:48:47.976592Z\", \"2021-08-28T17:48:50.639019Z\", \"2021-08-28T17:48:54.073386Z\", \"2021-08-28T17:48:56.213663Z\", \"2021-08-28T17:48:58.757085Z\", \"2021-08-28T17:48:58.757085Z\", \"2021-08-28T17:49:03.261109Z\", \"2021-08-28T17:49:05.205921Z\", \"2021-08-28T17:49:07.35331Z\", \"2021-08-28T17:49:09.669062Z\", \"2021-08-28T17:49:11.52537Z\", \"2021-08-28T17:49:12.936899Z\", \"2021-08-28T17:49:15.083208Z\", \"2021-08-28T17:49:17.867195Z\", \"2021-08-28T17:49:20.510122Z\", \"2021-08-28T17:49:21.876404Z\", \"2021-08-28T17:49:21.876404Z\", \"2021-08-28T17:49:26.070288Z\", \"2021-08-28T17:49:29.789395Z\", \"2021-08-28T17:49:31.717517Z\", \"2021-08-28T17:49:33.705014Z\", \"2021-08-28T17:49:36.519992Z\", \"2021-08-28T17:49:37.252999Z\", \"2021-08-28T17:49:40.15744Z\", \"2021-08-28T17:49:42.607526Z\", \"2021-08-28T17:49:45.240534Z\", \"2021-08-28T17:49:47.287294Z\", \"2021-08-28T17:49:48.576265Z\", \"2021-08-28T17:49:51.050692Z\", \"2021-08-28T17:49:53.748939Z\", \"2021-08-28T17:49:56.099623Z\", \"2021-08-28T17:49:58.439128Z\", \"2021-08-28T17:49:59.090573Z\", \"2021-08-28T17:50:02.95739Z\", \"2021-08-28T17:50:04.707739Z\", \"2021-08-28T17:50:07.130384Z\", \"2021-08-28T17:50:08.421747Z\", \"2021-08-28T17:50:08.421747Z\", \"2021-08-28T17:50:14.168416Z\", \"2021-08-28T17:50:15.781592Z\", \"2021-08-28T17:50:17.536925Z\", \"2021-08-28T17:50:19.757627Z\", \"2021-08-28T17:50:22.526539Z\", \"2021-08-28T17:50:23.320617Z\", \"2021-08-28T17:50:26.59582Z\", \"2021-08-28T17:50:29.629409Z\", \"2021-08-28T17:50:31.680456Z\", \"2021-08-28T17:50:33.430512Z\", \"2021-08-28T17:50:35.472188Z\", \"2021-08-28T17:50:37.876222Z\", \"2021-08-28T17:50:40.440017Z\", \"2021-08-28T17:50:42.925209Z\", \"2021-08-28T17:50:44.677936Z\", \"2021-08-28T17:50:46.30917Z\", \"2021-08-28T17:50:49.598917Z\", \"2021-08-28T17:50:50.813904Z\", \"2021-08-28T17:50:54.177493Z\", \"2021-08-28T17:50:56.35477Z\", \"2021-08-28T17:50:58.385017Z\", \"2021-08-28T17:51:00.089834Z\", \"2021-08-28T17:51:02.481363Z\", \"2021-08-28T17:51:04.544433Z\", \"2021-08-28T17:51:07.39949Z\", \"2021-08-28T17:51:07.39949Z\", \"2021-08-28T17:51:11.795999Z\", \"2021-08-28T17:51:12.927739Z\", \"2021-08-28T17:51:16.459183Z\", \"2021-08-28T17:51:17.865507Z\", \"2021-08-28T17:51:20.182604Z\", \"2021-08-28T17:51:22.641248Z\", \"2021-08-28T17:51:23.714078Z\", \"2021-08-28T17:51:26.174015Z\"], \"xaxis\": \"x\", \"y\": [49003.07, 49003.07, 49003.07, 48999.41, 48995.76, 48995.79, 48995.82, 48995.79, 48995.78, 49001.92, 49004.78, 49004.79, 49004.79, 49006.43, 49004.8, 49004.8, 49004.8, 49004.8, 49004.8, 49004.8, 49006.93, 49005.03, 49005.06, 48998.62, 48998.98, 49000.08, 48998.63, 48999.05, 49000.08, 48999.09, 48999.09, 48998.64, 49003.04, 49001.94, 49001.94, 49000.66, 49000.67, 49000.66, 49000.65, 48996.56, 48996.56, 49022.26, 49022.26, 49022.26, 49022.26, 49014.26, 49010.73, 49012.47, 49016.61, 49019.59, 49023.51, 49023.51, 49023.5, 49023.51, 49023.51, 49023.5, 49017.91, 49012.69, 49012.26, 49012.25, 49012.24, 49012.25, 49015.82, 49017.66, 49016.02, 49013.73, 49013.73, 49013.74, 49014.11, 49014.47, 49021.89, 49028.5, 49037.86, 49033.92, 49033.56, 49030.0, 49030.04, 49030.04, 49022.24, 49023.26, 49023.71, 49023.31, 49024.74, 49023.99, 49023.89, 49024.75, 49024.75, 49023.32, 49024.75, 49024.75, 49036.93, 49036.29, 49024.54, 49022.23, 49015.73, 49017.71, 49023.18, 49023.19, 49023.19, 49024.33, 49024.84, 49021.19, 49021.19, 49021.19, 49025.49, 49023.01, 49025.95, 49020.46, 49018.21, 49022.52, 49024.69, 49024.7, 49023.76, 49024.69, 49024.7, 49026.25, 49026.2, 49027.59, 49023.9, 49026.43, 49023.34, 49023.34, 49023.33, 49023.34, 49023.34, 49026.51, 49026.33, 49023.43, 49023.33, 49013.74, 49013.74, 49013.74, 49013.35], \"yaxis\": \"y\"}, {\"hovertemplate\": \"price_series=sma_20<br>time=%{x}<br>value=%{y}<extra></extra>\", \"legendgroup\": \"sma_20\", \"line\": {\"color\": \"#EF553B\", \"dash\": \"solid\"}, \"mode\": \"lines\", \"name\": \"sma_20\", \"orientation\": \"v\", \"showlegend\": true, \"type\": \"scatter\", \"x\": [\"2021-08-28T17:46:35.162065Z\", \"2021-08-28T17:46:35.162065Z\", \"2021-08-28T17:46:38.267181Z\", \"2021-08-28T17:46:40.502264Z\", \"2021-08-28T17:46:43.851454Z\", \"2021-08-28T17:46:46.350216Z\", \"2021-08-28T17:46:47.047442Z\", \"2021-08-28T17:46:49.328789Z\", \"2021-08-28T17:46:49.761464Z\", \"2021-08-28T17:46:54.18807Z\", \"2021-08-28T17:46:56.264717Z\", \"2021-08-28T17:46:59.131523Z\", \"2021-08-28T17:46:59.131523Z\", \"2021-08-28T17:47:03.630081Z\", \"2021-08-28T17:47:04.785257Z\", \"2021-08-28T17:47:08.126809Z\", \"2021-08-28T17:47:09.127853Z\", \"2021-08-28T17:47:12.278716Z\", \"2021-08-28T17:47:14.398087Z\", \"2021-08-28T17:47:14.398087Z\", \"2021-08-28T17:47:18.892875Z\", \"2021-08-28T17:47:19.59132Z\", \"2021-08-28T17:47:21.959685Z\", \"2021-08-28T17:47:23.780906Z\", \"2021-08-28T17:47:28.098099Z\", \"2021-08-28T17:47:29.383683Z\", \"2021-08-28T17:47:29.619298Z\", \"2021-08-28T17:47:34.481098Z\", \"2021-08-28T17:47:36.462066Z\", \"2021-08-28T17:47:39.074589Z\", \"2021-08-28T17:47:39.365092Z\", \"2021-08-28T17:47:40.922517Z\", \"2021-08-28T17:47:45.670752Z\", \"2021-08-28T17:47:47.746204Z\", \"2021-08-28T17:47:47.746204Z\", \"2021-08-28T17:47:52.302399Z\", \"2021-08-28T17:47:54.204989Z\", \"2021-08-28T17:47:56.748437Z\", \"2021-08-28T17:47:58.830967Z\", \"2021-08-28T17:48:00.591276Z\", \"2021-08-28T17:48:01.765394Z\", \"2021-08-28T17:48:05.602126Z\", \"2021-08-28T17:48:05.602126Z\", \"2021-08-28T17:48:05.602126Z\", \"2021-08-28T17:48:05.602126Z\", \"2021-08-28T17:48:14.065925Z\", \"2021-08-28T17:48:15.53311Z\", \"2021-08-28T17:48:16.675103Z\", \"2021-08-28T17:48:21.09763Z\", \"2021-08-28T17:48:23.337553Z\", \"2021-08-28T17:48:25.208071Z\", \"2021-08-28T17:48:25.208071Z\", \"2021-08-28T17:48:30.093984Z\", \"2021-08-28T17:48:31.686812Z\", \"2021-08-28T17:48:33.886539Z\", \"2021-08-28T17:48:36.83652Z\", \"2021-08-28T17:48:38.367875Z\", \"2021-08-28T17:48:41.059548Z\", \"2021-08-28T17:48:42.984287Z\", \"2021-08-28T17:48:44.241849Z\", \"2021-08-28T17:48:47.077046Z\", \"2021-08-28T17:48:47.976592Z\", \"2021-08-28T17:48:50.639019Z\", \"2021-08-28T17:48:54.073386Z\", \"2021-08-28T17:48:56.213663Z\", \"2021-08-28T17:48:58.757085Z\", \"2021-08-28T17:48:58.757085Z\", \"2021-08-28T17:49:03.261109Z\", \"2021-08-28T17:49:05.205921Z\", \"2021-08-28T17:49:07.35331Z\", \"2021-08-28T17:49:09.669062Z\", \"2021-08-28T17:49:11.52537Z\", \"2021-08-28T17:49:12.936899Z\", \"2021-08-28T17:49:15.083208Z\", \"2021-08-28T17:49:17.867195Z\", \"2021-08-28T17:49:20.510122Z\", \"2021-08-28T17:49:21.876404Z\", \"2021-08-28T17:49:21.876404Z\", \"2021-08-28T17:49:26.070288Z\", \"2021-08-28T17:49:29.789395Z\", \"2021-08-28T17:49:31.717517Z\", \"2021-08-28T17:49:33.705014Z\", \"2021-08-28T17:49:36.519992Z\", \"2021-08-28T17:49:37.252999Z\", \"2021-08-28T17:49:40.15744Z\", \"2021-08-28T17:49:42.607526Z\", \"2021-08-28T17:49:45.240534Z\", \"2021-08-28T17:49:47.287294Z\", \"2021-08-28T17:49:48.576265Z\", \"2021-08-28T17:49:51.050692Z\", \"2021-08-28T17:49:53.748939Z\", \"2021-08-28T17:49:56.099623Z\", \"2021-08-28T17:49:58.439128Z\", \"2021-08-28T17:49:59.090573Z\", \"2021-08-28T17:50:02.95739Z\", \"2021-08-28T17:50:04.707739Z\", \"2021-08-28T17:50:07.130384Z\", \"2021-08-28T17:50:08.421747Z\", \"2021-08-28T17:50:08.421747Z\", \"2021-08-28T17:50:14.168416Z\", \"2021-08-28T17:50:15.781592Z\", \"2021-08-28T17:50:17.536925Z\", \"2021-08-28T17:50:19.757627Z\", \"2021-08-28T17:50:22.526539Z\", \"2021-08-28T17:50:23.320617Z\", \"2021-08-28T17:50:26.59582Z\", \"2021-08-28T17:50:29.629409Z\", \"2021-08-28T17:50:31.680456Z\", \"2021-08-28T17:50:33.430512Z\", \"2021-08-28T17:50:35.472188Z\", \"2021-08-28T17:50:37.876222Z\", \"2021-08-28T17:50:40.440017Z\", \"2021-08-28T17:50:42.925209Z\", \"2021-08-28T17:50:44.677936Z\", \"2021-08-28T17:50:46.30917Z\", \"2021-08-28T17:50:49.598917Z\", \"2021-08-28T17:50:50.813904Z\", \"2021-08-28T17:50:54.177493Z\", \"2021-08-28T17:50:56.35477Z\", \"2021-08-28T17:50:58.385017Z\", \"2021-08-28T17:51:00.089834Z\", \"2021-08-28T17:51:02.481363Z\", \"2021-08-28T17:51:04.544433Z\", \"2021-08-28T17:51:07.39949Z\", \"2021-08-28T17:51:07.39949Z\", \"2021-08-28T17:51:11.795999Z\", \"2021-08-28T17:51:12.927739Z\", \"2021-08-28T17:51:16.459183Z\", \"2021-08-28T17:51:17.865507Z\", \"2021-08-28T17:51:20.182604Z\", \"2021-08-28T17:51:22.641248Z\", \"2021-08-28T17:51:23.714078Z\", \"2021-08-28T17:51:26.174015Z\"], \"xaxis\": \"x\", \"y\": [null, null, null, null, null, null, null, null, null, null, null, null, null, null, null, null, null, null, null, 49001.95350000002, 49002.14650000002, 49002.24450000002, 49002.34400000003, 49002.30450000002, 49002.46550000002, 49002.680000000015, 49002.820500000016, 49002.98350000002, 49003.19850000001, 49003.057000000015, 49002.77250000001, 49002.46500000001, 49002.37750000001, 49002.153000000006, 49002.01000000001, 49001.80300000001, 49001.59650000001, 49001.389500000005, 49001.18200000001, 49000.770000000004, 49000.251500000006, 49001.113000000005, 49001.97300000001, 49003.15500000001, 49004.31900000001, 49005.02800000001, 49005.633000000016, 49006.30400000001, 49007.130500000014, 49008.15550000001, 49009.37650000001, 49010.62000000001, 49011.64300000001, 49012.72150000001, 49013.80000000001, 49014.94200000001, 49015.80400000001, 49016.40550000001, 49016.98600000001, 49017.770500000006, 49018.554500000006, 49018.054000000004, 49017.732, 49017.502, 49017.19, 49017.1635, 49017.313500000004, 49017.377, 49017.252, 49016.996, 49016.915, 49017.1645, 49017.8825, 49018.403000000006, 49018.90550000001, 49019.230500000005, 49019.83700000001, 49020.70450000001, 49021.2035, 49021.754, 49022.3275, 49022.88050000001, 49023.32650000001, 49023.643000000004, 49024.0365, 49024.58750000001, 49025.13850000001, 49025.61750000001, 49026.14950000001, 49026.66350000001, 49027.41550000001, 49027.80500000001, 49027.13900000001, 49026.55450000001, 49025.663000000015, 49025.04850000001, 49024.70550000001, 49024.36300000001, 49024.41050000001, 49024.46400000001, 49024.520500000006, 49024.4145, 49024.237, 49024.096999999994, 49024.176999999996, 49024.09, 49024.149999999994, 49024.007, 49023.67999999999, 49023.568499999994, 49022.956499999986, 49022.376999999986, 49022.33799999998, 49022.46099999999, 49022.90949999999, 49023.33649999999, 49023.48749999998, 49023.70749999998, 49023.74299999998, 49023.84799999998, 49023.77299999999, 49023.880499999985, 49023.987499999974, 49024.09499999997, 49023.987499999974, 49024.16249999997, 49024.18149999997, 49024.32999999997, 49024.585999999974, 49024.146999999975, 49023.599499999975, 49023.05149999998, 49022.53099999997], \"yaxis\": \"y\"}],                        {\"legend\": {\"title\": {\"text\": \"price_series\"}, \"tracegroupgap\": 0}, \"margin\": {\"t\": 60}, \"template\": {\"data\": {\"bar\": [{\"error_x\": {\"color\": \"#2a3f5f\"}, \"error_y\": {\"color\": \"#2a3f5f\"}, \"marker\": {\"line\": {\"color\": \"#E5ECF6\", \"width\": 0.5}}, \"type\": \"bar\"}], \"barpolar\": [{\"marker\": {\"line\": {\"color\": \"#E5ECF6\", \"width\": 0.5}}, \"type\": \"barpolar\"}], \"carpet\": [{\"aaxis\": {\"endlinecolor\": \"#2a3f5f\", \"gridcolor\": \"white\", \"linecolor\": \"white\", \"minorgridcolor\": \"white\", \"startlinecolor\": \"#2a3f5f\"}, \"baxis\": {\"endlinecolor\": \"#2a3f5f\", \"gridcolor\": \"white\", \"linecolor\": \"white\", \"minorgridcolor\": \"white\", \"startlinecolor\": \"#2a3f5f\"}, \"type\": \"carpet\"}], \"choropleth\": [{\"colorbar\": {\"outlinewidth\": 0, \"ticks\": \"\"}, \"type\": \"choropleth\"}], \"contour\": [{\"colorbar\": {\"outlinewidth\": 0, \"ticks\": \"\"}, \"colorscale\": [[0.0, \"#0d0887\"], [0.1111111111111111, \"#46039f\"], [0.2222222222222222, \"#7201a8\"], [0.3333333333333333, \"#9c179e\"], [0.4444444444444444, \"#bd3786\"], [0.5555555555555556, \"#d8576b\"], [0.6666666666666666, \"#ed7953\"], [0.7777777777777778, \"#fb9f3a\"], [0.8888888888888888, \"#fdca26\"], [1.0, \"#f0f921\"]], \"type\": \"contour\"}], \"contourcarpet\": [{\"colorbar\": {\"outlinewidth\": 0, \"ticks\": \"\"}, \"type\": \"contourcarpet\"}], \"heatmap\": [{\"colorbar\": {\"outlinewidth\": 0, \"ticks\": \"\"}, \"colorscale\": [[0.0, \"#0d0887\"], [0.1111111111111111, \"#46039f\"], [0.2222222222222222, \"#7201a8\"], [0.3333333333333333, \"#9c179e\"], [0.4444444444444444, \"#bd3786\"], [0.5555555555555556, \"#d8576b\"], [0.6666666666666666, \"#ed7953\"], [0.7777777777777778, \"#fb9f3a\"], [0.8888888888888888, \"#fdca26\"], [1.0, \"#f0f921\"]], \"type\": \"heatmap\"}], \"heatmapgl\": [{\"colorbar\": {\"outlinewidth\": 0, \"ticks\": \"\"}, \"colorscale\": [[0.0, \"#0d0887\"], [0.1111111111111111, \"#46039f\"], [0.2222222222222222, \"#7201a8\"], [0.3333333333333333, \"#9c179e\"], [0.4444444444444444, \"#bd3786\"], [0.5555555555555556, \"#d8576b\"], [0.6666666666666666, \"#ed7953\"], [0.7777777777777778, \"#fb9f3a\"], [0.8888888888888888, \"#fdca26\"], [1.0, \"#f0f921\"]], \"type\": \"heatmapgl\"}], \"histogram\": [{\"marker\": {\"colorbar\": {\"outlinewidth\": 0, \"ticks\": \"\"}}, \"type\": \"histogram\"}], \"histogram2d\": [{\"colorbar\": {\"outlinewidth\": 0, \"ticks\": \"\"}, \"colorscale\": [[0.0, \"#0d0887\"], [0.1111111111111111, \"#46039f\"], [0.2222222222222222, \"#7201a8\"], [0.3333333333333333, \"#9c179e\"], [0.4444444444444444, \"#bd3786\"], [0.5555555555555556, \"#d8576b\"], [0.6666666666666666, \"#ed7953\"], [0.7777777777777778, \"#fb9f3a\"], [0.8888888888888888, \"#fdca26\"], [1.0, \"#f0f921\"]], \"type\": \"histogram2d\"}], \"histogram2dcontour\": [{\"colorbar\": {\"outlinewidth\": 0, \"ticks\": \"\"}, \"colorscale\": [[0.0, \"#0d0887\"], [0.1111111111111111, \"#46039f\"], [0.2222222222222222, \"#7201a8\"], [0.3333333333333333, \"#9c179e\"], [0.4444444444444444, \"#bd3786\"], [0.5555555555555556, \"#d8576b\"], [0.6666666666666666, \"#ed7953\"], [0.7777777777777778, \"#fb9f3a\"], [0.8888888888888888, \"#fdca26\"], [1.0, \"#f0f921\"]], \"type\": \"histogram2dcontour\"}], \"mesh3d\": [{\"colorbar\": {\"outlinewidth\": 0, \"ticks\": \"\"}, \"type\": \"mesh3d\"}], \"parcoords\": [{\"line\": {\"colorbar\": {\"outlinewidth\": 0, \"ticks\": \"\"}}, \"type\": \"parcoords\"}], \"pie\": [{\"automargin\": true, \"type\": \"pie\"}], \"scatter\": [{\"marker\": {\"colorbar\": {\"outlinewidth\": 0, \"ticks\": \"\"}}, \"type\": \"scatter\"}], \"scatter3d\": [{\"line\": {\"colorbar\": {\"outlinewidth\": 0, \"ticks\": \"\"}}, \"marker\": {\"colorbar\": {\"outlinewidth\": 0, \"ticks\": \"\"}}, \"type\": \"scatter3d\"}], \"scattercarpet\": [{\"marker\": {\"colorbar\": {\"outlinewidth\": 0, \"ticks\": \"\"}}, \"type\": \"scattercarpet\"}], \"scattergeo\": [{\"marker\": {\"colorbar\": {\"outlinewidth\": 0, \"ticks\": \"\"}}, \"type\": \"scattergeo\"}], \"scattergl\": [{\"marker\": {\"colorbar\": {\"outlinewidth\": 0, \"ticks\": \"\"}}, \"type\": \"scattergl\"}], \"scattermapbox\": [{\"marker\": {\"colorbar\": {\"outlinewidth\": 0, \"ticks\": \"\"}}, \"type\": \"scattermapbox\"}], \"scatterpolar\": [{\"marker\": {\"colorbar\": {\"outlinewidth\": 0, \"ticks\": \"\"}}, \"type\": \"scatterpolar\"}], \"scatterpolargl\": [{\"marker\": {\"colorbar\": {\"outlinewidth\": 0, \"ticks\": \"\"}}, \"type\": \"scatterpolargl\"}], \"scatterternary\": [{\"marker\": {\"colorbar\": {\"outlinewidth\": 0, \"ticks\": \"\"}}, \"type\": \"scatterternary\"}], \"surface\": [{\"colorbar\": {\"outlinewidth\": 0, \"ticks\": \"\"}, \"colorscale\": [[0.0, \"#0d0887\"], [0.1111111111111111, \"#46039f\"], [0.2222222222222222, \"#7201a8\"], [0.3333333333333333, \"#9c179e\"], [0.4444444444444444, \"#bd3786\"], [0.5555555555555556, \"#d8576b\"], [0.6666666666666666, \"#ed7953\"], [0.7777777777777778, \"#fb9f3a\"], [0.8888888888888888, \"#fdca26\"], [1.0, \"#f0f921\"]], \"type\": \"surface\"}], \"table\": [{\"cells\": {\"fill\": {\"color\": \"#EBF0F8\"}, \"line\": {\"color\": \"white\"}}, \"header\": {\"fill\": {\"color\": \"#C8D4E3\"}, \"line\": {\"color\": \"white\"}}, \"type\": \"table\"}]}, \"layout\": {\"annotationdefaults\": {\"arrowcolor\": \"#2a3f5f\", \"arrowhead\": 0, \"arrowwidth\": 1}, \"autotypenumbers\": \"strict\", \"coloraxis\": {\"colorbar\": {\"outlinewidth\": 0, \"ticks\": \"\"}}, \"colorscale\": {\"diverging\": [[0, \"#8e0152\"], [0.1, \"#c51b7d\"], [0.2, \"#de77ae\"], [0.3, \"#f1b6da\"], [0.4, \"#fde0ef\"], [0.5, \"#f7f7f7\"], [0.6, \"#e6f5d0\"], [0.7, \"#b8e186\"], [0.8, \"#7fbc41\"], [0.9, \"#4d9221\"], [1, \"#276419\"]], \"sequential\": [[0.0, \"#0d0887\"], [0.1111111111111111, \"#46039f\"], [0.2222222222222222, \"#7201a8\"], [0.3333333333333333, \"#9c179e\"], [0.4444444444444444, \"#bd3786\"], [0.5555555555555556, \"#d8576b\"], [0.6666666666666666, \"#ed7953\"], [0.7777777777777778, \"#fb9f3a\"], [0.8888888888888888, \"#fdca26\"], [1.0, \"#f0f921\"]], \"sequentialminus\": [[0.0, \"#0d0887\"], [0.1111111111111111, \"#46039f\"], [0.2222222222222222, \"#7201a8\"], [0.3333333333333333, \"#9c179e\"], [0.4444444444444444, \"#bd3786\"], [0.5555555555555556, \"#d8576b\"], [0.6666666666666666, \"#ed7953\"], [0.7777777777777778, \"#fb9f3a\"], [0.8888888888888888, \"#fdca26\"], [1.0, \"#f0f921\"]]}, \"colorway\": [\"#636efa\", \"#EF553B\", \"#00cc96\", \"#ab63fa\", \"#FFA15A\", \"#19d3f3\", \"#FF6692\", \"#B6E880\", \"#FF97FF\", \"#FECB52\"], \"font\": {\"color\": \"#2a3f5f\"}, \"geo\": {\"bgcolor\": \"white\", \"lakecolor\": \"white\", \"landcolor\": \"#E5ECF6\", \"showlakes\": true, \"showland\": true, \"subunitcolor\": \"white\"}, \"hoverlabel\": {\"align\": \"left\"}, \"hovermode\": \"closest\", \"mapbox\": {\"style\": \"light\"}, \"paper_bgcolor\": \"white\", \"plot_bgcolor\": \"#E5ECF6\", \"polar\": {\"angularaxis\": {\"gridcolor\": \"white\", \"linecolor\": \"white\", \"ticks\": \"\"}, \"bgcolor\": \"#E5ECF6\", \"radialaxis\": {\"gridcolor\": \"white\", \"linecolor\": \"white\", \"ticks\": \"\"}}, \"scene\": {\"xaxis\": {\"backgroundcolor\": \"#E5ECF6\", \"gridcolor\": \"white\", \"gridwidth\": 2, \"linecolor\": \"white\", \"showbackground\": true, \"ticks\": \"\", \"zerolinecolor\": \"white\"}, \"yaxis\": {\"backgroundcolor\": \"#E5ECF6\", \"gridcolor\": \"white\", \"gridwidth\": 2, \"linecolor\": \"white\", \"showbackground\": true, \"ticks\": \"\", \"zerolinecolor\": \"white\"}, \"zaxis\": {\"backgroundcolor\": \"#E5ECF6\", \"gridcolor\": \"white\", \"gridwidth\": 2, \"linecolor\": \"white\", \"showbackground\": true, \"ticks\": \"\", \"zerolinecolor\": \"white\"}}, \"shapedefaults\": {\"line\": {\"color\": \"#2a3f5f\"}}, \"ternary\": {\"aaxis\": {\"gridcolor\": \"white\", \"linecolor\": \"white\", \"ticks\": \"\"}, \"baxis\": {\"gridcolor\": \"white\", \"linecolor\": \"white\", \"ticks\": \"\"}, \"bgcolor\": \"#E5ECF6\", \"caxis\": {\"gridcolor\": \"white\", \"linecolor\": \"white\", \"ticks\": \"\"}}, \"title\": {\"x\": 0.05}, \"xaxis\": {\"automargin\": true, \"gridcolor\": \"white\", \"linecolor\": \"white\", \"ticks\": \"\", \"title\": {\"standoff\": 15}, \"zerolinecolor\": \"white\", \"zerolinewidth\": 2}, \"yaxis\": {\"automargin\": true, \"gridcolor\": \"white\", \"linecolor\": \"white\", \"ticks\": \"\", \"title\": {\"standoff\": 15}, \"zerolinecolor\": \"white\", \"zerolinewidth\": 2}}}, \"xaxis\": {\"anchor\": \"y\", \"domain\": [0.0, 1.0], \"title\": {\"text\": \"time\"}}, \"yaxis\": {\"anchor\": \"x\", \"domain\": [0.0, 1.0], \"title\": {\"text\": \"value\"}}},                        {\"responsive\": true}                    ).then(function(){\n",
       "                            \n",
       "var gd = document.getElementById('884264cf-7fef-41e7-b3a1-9a4de330c0f1');\n",
       "var x = new MutationObserver(function (mutations, observer) {{\n",
       "        var display = window.getComputedStyle(gd).display;\n",
       "        if (!display || display === 'none') {{\n",
       "            console.log([gd, 'removed!']);\n",
       "            Plotly.purge(gd);\n",
       "            observer.disconnect();\n",
       "        }}\n",
       "}});\n",
       "\n",
       "// Listen for the removal of the full notebook cells\n",
       "var notebookContainer = gd.closest('#notebook-container');\n",
       "if (notebookContainer) {{\n",
       "    x.observe(notebookContainer, {childList: true});\n",
       "}}\n",
       "\n",
       "// Listen for the clearing of the current output cell\n",
       "var outputEl = gd.closest('.output');\n",
       "if (outputEl) {{\n",
       "    x.observe(outputEl, {childList: true});\n",
       "}}\n",
       "\n",
       "                        })                };                });            </script>        </div>"
      ]
     },
     "metadata": {},
     "output_type": "display_data"
    },
    {
     "ename": "KeyboardInterrupt",
     "evalue": "",
     "output_type": "error",
     "traceback": [
      "\u001b[0;31m---------------------------------------------------------------------------\u001b[0m",
      "\u001b[0;31mKeyboardInterrupt\u001b[0m                         Traceback (most recent call last)",
      "\u001b[0;32m<ipython-input-16-d4364ba60914>\u001b[0m in \u001b[0;36m<module>\u001b[0;34m\u001b[0m\n\u001b[1;32m     11\u001b[0m     \u001b[0mclear_output\u001b[0m\u001b[0;34m(\u001b[0m\u001b[0;34m)\u001b[0m\u001b[0;34m\u001b[0m\u001b[0;34m\u001b[0m\u001b[0m\n\u001b[1;32m     12\u001b[0m     \u001b[0mdisplay\u001b[0m\u001b[0;34m(\u001b[0m\u001b[0mfig\u001b[0m\u001b[0;34m)\u001b[0m\u001b[0;34m\u001b[0m\u001b[0;34m\u001b[0m\u001b[0m\n\u001b[0;32m---> 13\u001b[0;31m     \u001b[0mtime\u001b[0m\u001b[0;34m.\u001b[0m\u001b[0msleep\u001b[0m\u001b[0;34m(\u001b[0m\u001b[0;36m2\u001b[0m\u001b[0;34m)\u001b[0m\u001b[0;34m\u001b[0m\u001b[0;34m\u001b[0m\u001b[0m\n\u001b[0m",
      "\u001b[0;31mKeyboardInterrupt\u001b[0m: "
     ]
    }
   ],
   "source": [
    "btc = defaultdict(list)\n",
    "\n",
    "while True:\n",
    "    res = requests.get(f\"{url}/products/{symbol}/ticker\")\n",
    "    btc['time'].append(res.json()['time'])\n",
    "    btc['price'].append(float(res.json()['price']))\n",
    "    btc_df = pd.DataFrame(btc)\n",
    "    btc_df['sma_20'] = btc_df.price.rolling(20).mean()\n",
    "    btc_melt = btc_df.melt(id_vars='time', var_name='price_series')\n",
    "    fig = px.line(btc_melt, x='time', y='value', color='price_series')\n",
    "    clear_output()\n",
    "    display(fig)\n",
    "    time.sleep(2)"
   ]
  }
 ],
 "metadata": {
  "kernelspec": {
   "display_name": "Python 3",
   "language": "python",
   "name": "python3"
  },
  "language_info": {
   "codemirror_mode": {
    "name": "ipython",
    "version": 3
   },
   "file_extension": ".py",
   "mimetype": "text/x-python",
   "name": "python",
   "nbconvert_exporter": "python",
   "pygments_lexer": "ipython3",
   "version": "3.8.5"
  }
 },
 "nbformat": 4,
 "nbformat_minor": 4
}
